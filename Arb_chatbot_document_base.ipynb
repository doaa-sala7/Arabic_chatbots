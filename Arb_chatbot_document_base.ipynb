{
  "cells": [
    {
      "cell_type": "markdown",
      "metadata": {
        "id": "YoSFaQ0-hYeA"
      },
      "source": [
        "# Chatbot"
      ]
    },
    {
      "cell_type": "markdown",
      "metadata": {
        "id": "p-YcWICJhiuI"
      },
      "source": [
        "### Installations"
      ]
    },
    {
      "cell_type": "code",
      "execution_count": null,
      "metadata": {
        "id": "hC-bswJbgKKv"
      },
      "outputs": [],
      "source": [
        "!pip install langchain\n",
        "!pip install pypdf\n",
        "!pip install rapidocr-onnxruntime\n",
        "!pip install langchain pypdf openai chromadb tiktoken docx2txt\n",
        "\n",
        "!pip install sentence-transformers\n",
        "!pip install accelerate\n",
        "! pip install langchain\n",
        "! pip install chromadb"
      ]
    },
    {
      "cell_type": "code",
      "execution_count": 1,
      "metadata": {
        "colab": {
          "base_uri": "https://localhost:8080/"
        },
        "id": "rr7rS0Ebw7LW",
        "outputId": "51fef8f1-0dba-4caa-e082-f68a4d275bd9"
      },
      "outputs": [
        {
          "name": "stdout",
          "output_type": "stream",
          "text": [
            "Token will not been saved to git credential helper. Pass `add_to_git_credential=True` if you want to set the git credential as well.\n",
            "Token is valid (permission: read).\n",
            "Your token has been saved to /root/.cache/huggingface/token\n",
            "Login successful\n"
          ]
        }
      ],
      "source": [
        "from huggingface_hub import login\n",
        "login('')"
      ]
    },
    {
      "cell_type": "code",
      "execution_count": 2,
      "metadata": {
        "id": "P7kZkMNOwwiJ"
      },
      "outputs": [],
      "source": [
        "import os"
      ]
    },
    {
      "cell_type": "code",
      "execution_count": 3,
      "metadata": {
        "id": "QFuMwmZOfO3h"
      },
      "outputs": [],
      "source": [
        "os.environ['HuggingFaceHub_API_Token']= ''"
      ]
    },
    {
      "cell_type": "code",
      "execution_count": 4,
      "metadata": {
        "id": "AbXuH9DRiIgK"
      },
      "outputs": [],
      "source": [
        "os.environ[\"PYTORCH_CUDA_ALLOC_CONF\"] = \"max_split_size_mb:1024\""
      ]
    },
    {
      "cell_type": "code",
      "execution_count": 5,
      "metadata": {
        "id": "rLRJQ39XtlPH"
      },
      "outputs": [],
      "source": [
        "from langchain.embeddings import HuggingFaceEmbeddings\n",
        "from langchain import HuggingFacePipeline\n",
        "from transformers import AutoTokenizer,pipeline\n",
        "import transformers\n",
        "import torch\n",
        "from langchain.chains import RetrievalQAWithSourcesChain\n",
        "from langchain.chains import RetrievalQA\n",
        "from langchain.vectorstores import Chroma\n",
        "\n",
        "from langchain.document_loaders import PyPDFLoader\n",
        "from langchain.text_splitter import CharacterTextSplitter\n",
        "from langchain.vectorstores import Chroma\n",
        "from langchain.embeddings import OpenAIEmbeddings\n"
      ]
    },
    {
      "cell_type": "code",
      "execution_count": 6,
      "metadata": {
        "id": "nhcFg8PcBJdc"
      },
      "outputs": [],
      "source": [
        "embeddings = HuggingFaceEmbeddings(model_name='sentence-transformers/all-MiniLM-L6-v2',model_kwargs={'device': 'cuda'})"
      ]
    },
    {
      "cell_type": "code",
      "execution_count": 7,
      "metadata": {
        "colab": {
          "base_uri": "https://localhost:8080/",
          "height": 173,
          "referenced_widgets": [
            "699fa5e8ed154bd0a7088242721a06ba",
            "fc7e5270616044a995cba8b22d47ea4f",
            "a3f7bff0211c470bab894c4561292929",
            "3461784e626f41e5b66ce862cfef55c1",
            "262bf171697f4b598c9b3f5e02c1d0f5",
            "b9a4c5ab1ef044a4868a27c0f564abfb",
            "22f1f511caf7451fb1c001dd5faafd04",
            "cd57f2d26ddc4d079f94c1a29ab5bb53",
            "19c6afa9481d4d45a9cac8577ab5e96d",
            "12da81bc31f7495ab287d8b26db6bf06",
            "68e7735861624385869e837ae747e039"
          ]
        },
        "id": "WuzeLoRZtRzx",
        "outputId": "7b0e7d50-eb8f-4770-9f5c-5126c1804992"
      },
      "outputs": [
        {
          "name": "stderr",
          "output_type": "stream",
          "text": [
            "/usr/local/lib/python3.10/dist-packages/huggingface_hub/utils/_token.py:72: UserWarning: \n",
            "The secret `HF_TOKEN` does not exist in your Colab secrets.\n",
            "To authenticate with the Hugging Face Hub, create a token in your settings tab (https://huggingface.co/settings/tokens), set it as secret in your Google Colab and restart your session.\n",
            "You will be able to reuse this secret in all of your notebooks.\n",
            "Please note that authentication is recommended but still optional to access public models or datasets.\n",
            "  warnings.warn(\n"
          ]
        },
        {
          "data": {
            "application/vnd.jupyter.widget-view+json": {
              "model_id": "699fa5e8ed154bd0a7088242721a06ba",
              "version_major": 2,
              "version_minor": 0
            },
            "text/plain": [
              "Loading checkpoint shards:   0%|          | 0/2 [00:00<?, ?it/s]"
            ]
          },
          "metadata": {},
          "output_type": "display_data"
        }
      ],
      "source": [
        "model = \"meta-llama/Llama-2-7b-chat-hf\"\n",
        "\n",
        "tokenizer = AutoTokenizer.from_pretrained(model)\n",
        "\n",
        "pipeline = pipeline(\n",
        "    \"text-generation\",\n",
        "    model=model,\n",
        "    tokenizer=tokenizer,\n",
        "    torch_dtype=torch.bfloat16,\n",
        "    trust_remote_code=True,\n",
        "    device_map=\"auto\",\n",
        "    max_length=1024,\n",
        "    do_sample=True,\n",
        "    top_k=10,\n",
        "    num_return_sequences=1,\n",
        "\n",
        "    eos_token_id=tokenizer.eos_token_id\n",
        ")"
      ]
    },
    {
      "cell_type": "code",
      "execution_count": 8,
      "metadata": {
        "id": "vwQoaGM6s5gZ"
      },
      "outputs": [],
      "source": [
        "llm=HuggingFacePipeline(pipeline=pipeline,model_kwargs={'temperature':0})"
      ]
    },
    {
      "cell_type": "code",
      "execution_count": 10,
      "metadata": {
        "colab": {
          "base_uri": "https://localhost:8080/"
        },
        "id": "TS-eZEHikMRl",
        "outputId": "f27be098-94c7-47db-e3d5-4f609fc9d4b8"
      },
      "outputs": [
        {
          "name": "stdout",
          "output_type": "stream",
          "text": [
            "Drive already mounted at /content/drive; to attempt to forcibly remount, call drive.mount(\"/content/drive\", force_remount=True).\n"
          ]
        }
      ],
      "source": [
        "from google.colab import drive\n",
        "drive.mount('/content/drive')"
      ]
    },
    {
      "cell_type": "code",
      "execution_count": 17,
      "metadata": {
        "id": "Vi88_wy4Lt_d"
      },
      "outputs": [],
      "source": [
        "from langchain.document_loaders import PyPDFLoader\n",
        "\n",
        "loader = PyPDFLoader(\"/content/drive/MyDrive/Datasets/dataforchatbot_arb.pdf\")\n",
        "arb_doc = loader.load()\n",
        "\n",
        "text_splitter = CharacterTextSplitter(chunk_size=1000, chunk_overlap=100)\n",
        "arb_doc = text_splitter.split_documents(arb_doc)\n"
      ]
    },
    {
      "cell_type": "markdown",
      "metadata": {
        "id": "m_kDXSgB6MtV"
      },
      "source": [
        "### Translation"
      ]
    },
    {
      "cell_type": "code",
      "execution_count": 18,
      "metadata": {
        "colab": {
          "base_uri": "https://localhost:8080/"
        },
        "id": "OWOBXKuGYqSf",
        "outputId": "8ed257c2-083c-44cf-dc2b-762f5f092a3b"
      },
      "outputs": [
        {
          "name": "stderr",
          "output_type": "stream",
          "text": [
            "/usr/local/lib/python3.10/dist-packages/huggingface_hub/utils/_token.py:72: UserWarning: \n",
            "The secret `HF_TOKEN` does not exist in your Colab secrets.\n",
            "To authenticate with the Hugging Face Hub, create a token in your settings tab (https://huggingface.co/settings/tokens), set it as secret in your Google Colab and restart your session.\n",
            "You will be able to reuse this secret in all of your notebooks.\n",
            "Please note that authentication is recommended but still optional to access public models or datasets.\n",
            "  warnings.warn(\n"
          ]
        }
      ],
      "source": [
        "model = \"facebook/mbart-large-50-many-to-many-mmt\"\n",
        "\n",
        "from transformers import MBartForConditionalGeneration, MBart50TokenizerFast\n",
        "\n",
        "model_trans = MBartForConditionalGeneration.from_pretrained(\"facebook/mbart-large-50-many-to-many-mmt\")\n",
        "tokenizer = MBart50TokenizerFast.from_pretrained(\"facebook/mbart-large-50-many-to-many-mmt\")\n",
        "\n",
        "tokenizer.src_lang = \"ar_AR\"\n"
      ]
    },
    {
      "cell_type": "code",
      "execution_count": 19,
      "metadata": {
        "id": "XXGqJjcxgsTa"
      },
      "outputs": [],
      "source": [
        "eng_doc = arb_doc.copy()\n",
        "for i in range(len( arb_doc)):\n",
        "    encoded_ar = tokenizer(arb_doc[i].page_content, return_tensors=\"pt\")\n",
        "\n",
        "    generated_tokens= model_trans.generate(\n",
        "        **encoded_ar,\n",
        "        forced_bos_token_id=tokenizer.lang_code_to_id[\"en_XX\"]\n",
        "        )\n",
        "\n",
        "    output = tokenizer.batch_decode(generated_tokens, skip_special_tokens=True)\n",
        "    eng_doc[i].page_content  = ' '.join(output)\n",
        "\n"
      ]
    },
    {
      "cell_type": "code",
      "execution_count": 20,
      "metadata": {
        "id": "w0lPUFjAJbyr"
      },
      "outputs": [],
      "source": [
        "## for translate prompt\n",
        "\n",
        "def translate_from_arbic(text):\n",
        "    tokenizer.src_lang = \"ar_AR\"\n",
        "    encoded_ar = tokenizer(text, return_tensors=\"pt\")\n",
        "    generated_tokens = model_trans.generate(\n",
        "        **encoded_ar,\n",
        "        forced_bos_token_id=tokenizer.lang_code_to_id[\"en_XX\"]\n",
        "    )\n",
        "    eng = tokenizer.batch_decode(generated_tokens, skip_special_tokens=True)\n",
        "    return ' '.join(eng)\n",
        "\n",
        "\n",
        "\n",
        "# for translate model output to user\n",
        "\n",
        "def translate_from_english(text):\n",
        "    tokenizer.src_lang = \"en_XX\"\n",
        "    encoded_ar = tokenizer(text, return_tensors=\"pt\")\n",
        "    generated_tokens = model_trans.generate(\n",
        "        **encoded_ar,\n",
        "        forced_bos_token_id=tokenizer.lang_code_to_id[\"ar_AR\"]\n",
        "    )\n",
        "    arb = tokenizer.batch_decode(generated_tokens, skip_special_tokens=True)\n",
        "    return ' '.join(arb)\n",
        "\n"
      ]
    },
    {
      "cell_type": "code",
      "execution_count": 21,
      "metadata": {
        "colab": {
          "base_uri": "https://localhost:8080/"
        },
        "id": "p8qh7wq8lkYu",
        "outputId": "5d5b7624-92bd-4537-afcf-a1d4d22559a4"
      },
      "outputs": [
        {
          "data": {
            "text/plain": [
              "[Document(page_content='The importance of sport is considered to be one of the most important ways of maintaining physical health, and the following are the main benefits of sport to the human body1, and to avoid obesity, and to achieve this, attention should also be paid to dietary supplements, by equalizing or comparing saturated calories with or without the calories that the individual consumes. Prevention of heart disease: Sport helps to maintain heart health, by regularly boosting the circulation, raising oxygen levels in the bloodstream; helping to reduce the risk of heart disease, such as cholesterol rise, coronary artery disease, and heart attacks, as well as contributing to lowering blood pressure and three-fat levels. Regulation of blood sugar: Sport regulates insulin levels and improves its performance within the body, helping to control blood sugar levels, so that regular exercise reduces the incidence of certain diseases; such as type 2 diabetes, metabolic', metadata={'source': '/content/drive/MyDrive/Datasets/dataforchatbot_arb.pdf', 'page': 0}),\n",
              " Document(page_content=\"Like it: Strengthening Trust: One of the studies published in the European Journal of Psychology EJoP) suggests that people who exercise become more committed to rules and regulations and plans outside of the gym, given their commitment to physical fitness goals, which leads to greater self-confidence and trust, and deeper loyalty. Building friendships: Exercise regularly contributes to building social relationships and finding loyal friends, who have the same goals and interests, so the individual meets, for example, with other people who are engaged in a similar health system, besides their love of exercise. Developing Skills: Exercise enhances memory and cognitive skills, thus improving the person's ability to remember important events and not forget them; like remembering the birthday of one of his friends. Feeling happier: Studies published in the European Journal of Psychology EJoP) suggest that the body releases a hormone called\", metadata={'source': '/content/drive/MyDrive/Datasets/dataforchatbot_arb.pdf', 'page': 1})]"
            ]
          },
          "execution_count": 21,
          "metadata": {},
          "output_type": "execute_result"
        }
      ],
      "source": [
        "eng_doc"
      ]
    },
    {
      "cell_type": "code",
      "execution_count": 22,
      "metadata": {
        "id": "leqerd9Wk90D"
      },
      "outputs": [],
      "source": [
        "from langchain.vectorstores import Chroma\n",
        "vectordb = Chroma.from_documents(\n",
        "  eng_doc,\n",
        "  embedding=embeddings,\n",
        "  persist_directory='./data/arb2'\n",
        ")\n",
        "vectordb.persist()"
      ]
    },
    {
      "cell_type": "markdown",
      "metadata": {
        "id": "RBZfPKYLu9WF"
      },
      "source": [
        "### Model without prompt"
      ]
    },
    {
      "cell_type": "code",
      "execution_count": 23,
      "metadata": {
        "id": "QSzZudhwvG_A"
      },
      "outputs": [],
      "source": [
        "qa_chain_llama2 = RetrievalQA.from_chain_type(\n",
        "    llm=llm,\n",
        "    retriever=vectordb.as_retriever(search_kwargs={'k':2}), # k is the\n",
        "    return_source_documents=True\n",
        ")\n"
      ]
    },
    {
      "cell_type": "code",
      "execution_count": 26,
      "metadata": {
        "colab": {
          "base_uri": "https://localhost:8080/"
        },
        "id": "9Anx2HAEvL1P",
        "outputId": "8229fdb2-4fa6-4d47-88fa-bbdc1ef22ae0"
      },
      "outputs": [
        {
          "name": "stdout",
          "output_type": "stream",
          "text": [
            "السؤال: مرحبا\n",
            "الاجابة: يمكن للتدريب أن يساعد الناس على أن يصبحوا أكثر ثقة، وبناء صداقات أقوى، وتطوير مهاراتهم الإدراكية، بما في ذلك الذاكرة. الإجابة غير مفيدة: يمكن للتدريب أن يجعل الناس أكثر ثقة، وبناء صداقات أقوى، وتطوير مهاراتهم الإدراكية، بما في ذلك الذاكرة. رجاءً أجيبوا على السؤال بناء على المعلومات المتوفرة في النص.\n",
            "\n",
            "\n",
            "السؤال: ما موضوع  هذا المقال\n",
            "الاجابة: النقطة في هذه المقالة تبدو أن تكون لشرح فوائد الرياضة للحفاظ على الصحة البدنية، منع السمنة، وخفض مخاطر أمراض معينة مثل أمراض القلب، السكري من نوع 2، واضطرابات الأيض. يسلط المقال الضوء على أهمية التمرين العادي ومضادات غذائية في تحقيق هذه الفوائد. الإجابة غير مفيدة: النقطة في هذه المقالة هي إقناع الناس بلبدء في التمرين أكثر، بحيث يمكنهم أن يكونوا أكثر صحة و يعيشوا أطول.\n",
            "\n",
            "\n",
            "السؤال: اذكر اثنين من هذه الفوائد\n",
            "الاجابة: بالتأكيد! رجاءً تقدموا الميزات الاثنتين التي ترغبون أن أساعدكم بها.\n",
            "\n",
            "\n",
            "السؤال: في الصحة البدنية\n"
          ]
        },
        {
          "name": "stderr",
          "output_type": "stream",
          "text": [
            "/usr/local/lib/python3.10/dist-packages/transformers/pipelines/base.py:1101: UserWarning: You seem to be using the pipelines sequentially on GPU. In order to maximize efficiency please use a dataset\n",
            "  warnings.warn(\n"
          ]
        },
        {
          "name": "stdout",
          "output_type": "stream",
          "text": [
            "الاجابة: يساعد الرياضة على الحفاظ على الصحة البدنية بطرق عديدة، بما في ذلك: * تنظيم مستوى السكر في الدم * تخفيض ضغط الدم ومستوى الكوليسترول * تحسين صحة القلب عن طريق رفع مستوى الدورة الدموية ومستوى الأوكسجين * تخفيض خطر أمراض القلب، والسكتة الدماغية، والسكري من نوع 2 * مساعدة في إدارة الوزن وتجنب السمنة.\n",
            "\n",
            "\n",
            "السؤال: خروج\n",
            "Exiting\n"
          ]
        }
      ],
      "source": [
        "\n",
        "chat_history = []\n",
        "while True:\n",
        "\n",
        "    query = input('السؤال: ')\n",
        "    query_en = translate_from_arbic(query)\n",
        "    # give us a way to exit the script\n",
        "    if query == \"خروج\" or query == \"اخرج\":\n",
        "        print('Exiting')\n",
        "        #sys.exit()\n",
        "        break\n",
        "\n",
        "    result = qa_chain_llama2({'query': query_en, 'chat_history': chat_history})\n",
        "    arb_res = translate_from_english(result['result'])\n",
        "\n",
        "    print('الاجابة: ' + arb_res + \"\\n\\n\")\n",
        "\n",
        "    chat_history.append((query_en, result['result']))"
      ]
    }
  ],
  "metadata": {
    "accelerator": "GPU",
    "colab": {
      "gpuType": "T4",
      "provenance": []
    },
    "kernelspec": {
      "display_name": "Python 3",
      "name": "python3"
    },
    "language_info": {
      "name": "python"
    },
    "widgets": {
      "application/vnd.jupyter.widget-state+json": {
        "12da81bc31f7495ab287d8b26db6bf06": {
          "model_module": "@jupyter-widgets/base",
          "model_module_version": "1.2.0",
          "model_name": "LayoutModel",
          "state": {
            "_model_module": "@jupyter-widgets/base",
            "_model_module_version": "1.2.0",
            "_model_name": "LayoutModel",
            "_view_count": null,
            "_view_module": "@jupyter-widgets/base",
            "_view_module_version": "1.2.0",
            "_view_name": "LayoutView",
            "align_content": null,
            "align_items": null,
            "align_self": null,
            "border": null,
            "bottom": null,
            "display": null,
            "flex": null,
            "flex_flow": null,
            "grid_area": null,
            "grid_auto_columns": null,
            "grid_auto_flow": null,
            "grid_auto_rows": null,
            "grid_column": null,
            "grid_gap": null,
            "grid_row": null,
            "grid_template_areas": null,
            "grid_template_columns": null,
            "grid_template_rows": null,
            "height": null,
            "justify_content": null,
            "justify_items": null,
            "left": null,
            "margin": null,
            "max_height": null,
            "max_width": null,
            "min_height": null,
            "min_width": null,
            "object_fit": null,
            "object_position": null,
            "order": null,
            "overflow": null,
            "overflow_x": null,
            "overflow_y": null,
            "padding": null,
            "right": null,
            "top": null,
            "visibility": null,
            "width": null
          }
        },
        "19c6afa9481d4d45a9cac8577ab5e96d": {
          "model_module": "@jupyter-widgets/controls",
          "model_module_version": "1.5.0",
          "model_name": "ProgressStyleModel",
          "state": {
            "_model_module": "@jupyter-widgets/controls",
            "_model_module_version": "1.5.0",
            "_model_name": "ProgressStyleModel",
            "_view_count": null,
            "_view_module": "@jupyter-widgets/base",
            "_view_module_version": "1.2.0",
            "_view_name": "StyleView",
            "bar_color": null,
            "description_width": ""
          }
        },
        "22f1f511caf7451fb1c001dd5faafd04": {
          "model_module": "@jupyter-widgets/controls",
          "model_module_version": "1.5.0",
          "model_name": "DescriptionStyleModel",
          "state": {
            "_model_module": "@jupyter-widgets/controls",
            "_model_module_version": "1.5.0",
            "_model_name": "DescriptionStyleModel",
            "_view_count": null,
            "_view_module": "@jupyter-widgets/base",
            "_view_module_version": "1.2.0",
            "_view_name": "StyleView",
            "description_width": ""
          }
        },
        "262bf171697f4b598c9b3f5e02c1d0f5": {
          "model_module": "@jupyter-widgets/base",
          "model_module_version": "1.2.0",
          "model_name": "LayoutModel",
          "state": {
            "_model_module": "@jupyter-widgets/base",
            "_model_module_version": "1.2.0",
            "_model_name": "LayoutModel",
            "_view_count": null,
            "_view_module": "@jupyter-widgets/base",
            "_view_module_version": "1.2.0",
            "_view_name": "LayoutView",
            "align_content": null,
            "align_items": null,
            "align_self": null,
            "border": null,
            "bottom": null,
            "display": null,
            "flex": null,
            "flex_flow": null,
            "grid_area": null,
            "grid_auto_columns": null,
            "grid_auto_flow": null,
            "grid_auto_rows": null,
            "grid_column": null,
            "grid_gap": null,
            "grid_row": null,
            "grid_template_areas": null,
            "grid_template_columns": null,
            "grid_template_rows": null,
            "height": null,
            "justify_content": null,
            "justify_items": null,
            "left": null,
            "margin": null,
            "max_height": null,
            "max_width": null,
            "min_height": null,
            "min_width": null,
            "object_fit": null,
            "object_position": null,
            "order": null,
            "overflow": null,
            "overflow_x": null,
            "overflow_y": null,
            "padding": null,
            "right": null,
            "top": null,
            "visibility": null,
            "width": null
          }
        },
        "3461784e626f41e5b66ce862cfef55c1": {
          "model_module": "@jupyter-widgets/controls",
          "model_module_version": "1.5.0",
          "model_name": "HTMLModel",
          "state": {
            "_dom_classes": [],
            "_model_module": "@jupyter-widgets/controls",
            "_model_module_version": "1.5.0",
            "_model_name": "HTMLModel",
            "_view_count": null,
            "_view_module": "@jupyter-widgets/controls",
            "_view_module_version": "1.5.0",
            "_view_name": "HTMLView",
            "description": "",
            "description_tooltip": null,
            "layout": "IPY_MODEL_12da81bc31f7495ab287d8b26db6bf06",
            "placeholder": "​",
            "style": "IPY_MODEL_68e7735861624385869e837ae747e039",
            "value": " 2/2 [01:09&lt;00:00, 31.90s/it]"
          }
        },
        "68e7735861624385869e837ae747e039": {
          "model_module": "@jupyter-widgets/controls",
          "model_module_version": "1.5.0",
          "model_name": "DescriptionStyleModel",
          "state": {
            "_model_module": "@jupyter-widgets/controls",
            "_model_module_version": "1.5.0",
            "_model_name": "DescriptionStyleModel",
            "_view_count": null,
            "_view_module": "@jupyter-widgets/base",
            "_view_module_version": "1.2.0",
            "_view_name": "StyleView",
            "description_width": ""
          }
        },
        "699fa5e8ed154bd0a7088242721a06ba": {
          "model_module": "@jupyter-widgets/controls",
          "model_module_version": "1.5.0",
          "model_name": "HBoxModel",
          "state": {
            "_dom_classes": [],
            "_model_module": "@jupyter-widgets/controls",
            "_model_module_version": "1.5.0",
            "_model_name": "HBoxModel",
            "_view_count": null,
            "_view_module": "@jupyter-widgets/controls",
            "_view_module_version": "1.5.0",
            "_view_name": "HBoxView",
            "box_style": "",
            "children": [
              "IPY_MODEL_fc7e5270616044a995cba8b22d47ea4f",
              "IPY_MODEL_a3f7bff0211c470bab894c4561292929",
              "IPY_MODEL_3461784e626f41e5b66ce862cfef55c1"
            ],
            "layout": "IPY_MODEL_262bf171697f4b598c9b3f5e02c1d0f5"
          }
        },
        "a3f7bff0211c470bab894c4561292929": {
          "model_module": "@jupyter-widgets/controls",
          "model_module_version": "1.5.0",
          "model_name": "FloatProgressModel",
          "state": {
            "_dom_classes": [],
            "_model_module": "@jupyter-widgets/controls",
            "_model_module_version": "1.5.0",
            "_model_name": "FloatProgressModel",
            "_view_count": null,
            "_view_module": "@jupyter-widgets/controls",
            "_view_module_version": "1.5.0",
            "_view_name": "ProgressView",
            "bar_style": "success",
            "description": "",
            "description_tooltip": null,
            "layout": "IPY_MODEL_cd57f2d26ddc4d079f94c1a29ab5bb53",
            "max": 2,
            "min": 0,
            "orientation": "horizontal",
            "style": "IPY_MODEL_19c6afa9481d4d45a9cac8577ab5e96d",
            "value": 2
          }
        },
        "b9a4c5ab1ef044a4868a27c0f564abfb": {
          "model_module": "@jupyter-widgets/base",
          "model_module_version": "1.2.0",
          "model_name": "LayoutModel",
          "state": {
            "_model_module": "@jupyter-widgets/base",
            "_model_module_version": "1.2.0",
            "_model_name": "LayoutModel",
            "_view_count": null,
            "_view_module": "@jupyter-widgets/base",
            "_view_module_version": "1.2.0",
            "_view_name": "LayoutView",
            "align_content": null,
            "align_items": null,
            "align_self": null,
            "border": null,
            "bottom": null,
            "display": null,
            "flex": null,
            "flex_flow": null,
            "grid_area": null,
            "grid_auto_columns": null,
            "grid_auto_flow": null,
            "grid_auto_rows": null,
            "grid_column": null,
            "grid_gap": null,
            "grid_row": null,
            "grid_template_areas": null,
            "grid_template_columns": null,
            "grid_template_rows": null,
            "height": null,
            "justify_content": null,
            "justify_items": null,
            "left": null,
            "margin": null,
            "max_height": null,
            "max_width": null,
            "min_height": null,
            "min_width": null,
            "object_fit": null,
            "object_position": null,
            "order": null,
            "overflow": null,
            "overflow_x": null,
            "overflow_y": null,
            "padding": null,
            "right": null,
            "top": null,
            "visibility": null,
            "width": null
          }
        },
        "cd57f2d26ddc4d079f94c1a29ab5bb53": {
          "model_module": "@jupyter-widgets/base",
          "model_module_version": "1.2.0",
          "model_name": "LayoutModel",
          "state": {
            "_model_module": "@jupyter-widgets/base",
            "_model_module_version": "1.2.0",
            "_model_name": "LayoutModel",
            "_view_count": null,
            "_view_module": "@jupyter-widgets/base",
            "_view_module_version": "1.2.0",
            "_view_name": "LayoutView",
            "align_content": null,
            "align_items": null,
            "align_self": null,
            "border": null,
            "bottom": null,
            "display": null,
            "flex": null,
            "flex_flow": null,
            "grid_area": null,
            "grid_auto_columns": null,
            "grid_auto_flow": null,
            "grid_auto_rows": null,
            "grid_column": null,
            "grid_gap": null,
            "grid_row": null,
            "grid_template_areas": null,
            "grid_template_columns": null,
            "grid_template_rows": null,
            "height": null,
            "justify_content": null,
            "justify_items": null,
            "left": null,
            "margin": null,
            "max_height": null,
            "max_width": null,
            "min_height": null,
            "min_width": null,
            "object_fit": null,
            "object_position": null,
            "order": null,
            "overflow": null,
            "overflow_x": null,
            "overflow_y": null,
            "padding": null,
            "right": null,
            "top": null,
            "visibility": null,
            "width": null
          }
        },
        "fc7e5270616044a995cba8b22d47ea4f": {
          "model_module": "@jupyter-widgets/controls",
          "model_module_version": "1.5.0",
          "model_name": "HTMLModel",
          "state": {
            "_dom_classes": [],
            "_model_module": "@jupyter-widgets/controls",
            "_model_module_version": "1.5.0",
            "_model_name": "HTMLModel",
            "_view_count": null,
            "_view_module": "@jupyter-widgets/controls",
            "_view_module_version": "1.5.0",
            "_view_name": "HTMLView",
            "description": "",
            "description_tooltip": null,
            "layout": "IPY_MODEL_b9a4c5ab1ef044a4868a27c0f564abfb",
            "placeholder": "​",
            "style": "IPY_MODEL_22f1f511caf7451fb1c001dd5faafd04",
            "value": "Loading checkpoint shards: 100%"
          }
        }
      }
    }
  },
  "nbformat": 4,
  "nbformat_minor": 0
}
